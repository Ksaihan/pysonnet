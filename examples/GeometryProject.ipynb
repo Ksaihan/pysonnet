{
 "cells": [
  {
   "cell_type": "markdown",
   "metadata": {},
   "source": [
    "# Transmission line simulation with pysonnet\n",
    "Let's do some imports"
   ]
  },
  {
   "cell_type": "code",
   "execution_count": 1,
   "metadata": {},
   "outputs": [],
   "source": [
    "import logging\n",
    "import numpy as np\n",
    "import pysonnet as ps\n",
    "# gdspy is availible via 'pip install gdspy'\n",
    "# or at https://github.com/heitzmann/gdspy\n",
    "import gdspy as gp"
   ]
  },
  {
   "cell_type": "markdown",
   "metadata": {},
   "source": [
    "## Make a simple geometry with gdspy\n",
    "We can make a cool wavy transmission line using the gdspy.Path class\n",
    "\n",
    "The result can be easily viewed using gdspy's built in layout viewer (uncomment the last line)"
   ]
  },
  {
   "cell_type": "code",
   "execution_count": 2,
   "metadata": {},
   "outputs": [],
   "source": [
    "# geometric constants\n",
    "box_x, box_y = 100, 100  # size of the box\n",
    "width = 5  # transmission line width\n",
    "layer = 0  # layer for gds format\n",
    "datatype = 1  # datatype for gds format\n",
    "# initialize the path\n",
    "path = gp.Path(width, initial_point=(box_x / 3, 0))\n",
    "# define the cosine path and it's derivative\n",
    "def path_function(t):\n",
    "    return (-box_x / 6 * (np.cos(np.pi * t) - 1), t * box_y)\n",
    "def d_path_function(t):\n",
    "    return (np.pi * box_x / 6 * np.sin(np.pi * t), box_y)\n",
    "path.parametric(path_function, curve_derivative=d_path_function,\n",
    "                layer=layer, datatype=datatype)\n",
    "# add the path to a cell\n",
    "cell = gp.Cell('feedline', exclude_from_current=True)\n",
    "cell.add(path);\n",
    "# show the result\n",
    "# gp.LayoutViewer(cells=cell)"
   ]
  },
  {
   "cell_type": "markdown",
   "metadata": {},
   "source": [
    "## Configure the project settings\n",
    "The first step is to pick the box settings and the materials that we will use for the sonnet simulation"
   ]
  },
  {
   "cell_type": "code",
   "execution_count": 3,
   "metadata": {},
   "outputs": [],
   "source": [
    "# The GeometryProject is the most basic Sonnet project type\n",
    "project = ps.GeometryProject()\n",
    "\n",
    "# I don't like the default Sonnet units, so let's change them\n",
    "project.set_units(length='um')  # the default length unit for Sonnet is mils\n",
    "\n",
    "# Then we can set up the box\n",
    "project.setup_box(box_x, box_y, 500, 500)\n",
    "\n",
    "# Next is defining the metal types and if they are on the box top/bottom\n",
    "project.define_metal(\"general\", \"PtSi\", ls=21)  # high kinetic inductance superconductor\n",
    "project.define_metal(\"general\", \"Nb\", ls=0.08)  # low kinetic inductance superconductor\n",
    "project.set_box_cover(\"free space\", top=True)\n",
    "project.set_box_cover(\"custom\", name=\"Nb\", bottom=True)\n",
    "\n",
    "# Lets add a dielectric layer under the microstrip and air above\n",
    "project.add_dielectric(\"air\", layer , thickness=1000)\n",
    "project.add_dielectric(\"silicon\", layer + 1, thickness=100, epsilon=11.9, dielectric_loss=0.004, conductivity=4.4e-4)\n",
    "\n",
    "# We can also define technology layers\n",
    "project.define_technology_layer(\"metal\", \"microstrip\", layer, \"PtSi\", fill_type=\"diagonal\")"
   ]
  },
  {
   "cell_type": "markdown",
   "metadata": {},
   "source": [
    "## Load the geometry into a pysonnet project\n",
    "The polygons can be extracted using the get_polygons() method for the Cell, CellReference or CellArray.\n",
    "\n",
    "The by_spec keyword is useful for separating different layers and datatypes to assign groups of polygons to different Sonnet layers with different properties. "
   ]
  },
  {
   "cell_type": "code",
   "execution_count": 4,
   "metadata": {},
   "outputs": [],
   "source": [
    "polygons = cell.get_polygons(by_spec=True)\n",
    "microstrip_polygons = polygons[(layer, datatype)]  # pick the polygons that I want"
   ]
  },
  {
   "cell_type": "markdown",
   "metadata": {},
   "source": [
    "We can now add the polygons and ports to our project."
   ]
  },
  {
   "cell_type": "code",
   "execution_count": 5,
   "metadata": {},
   "outputs": [],
   "source": [
    "project.add_polygons(\"metal\", microstrip_polygons, tech_layer=\"microstrip\")\n",
    "project.add_port(\"standard\", 1, 2 * box_x / 3, box_y, resistance=50)\n",
    "project.add_port(\"standard\", 2, box_x / 3, 0, resistance=50)"
   ]
  },
  {
   "cell_type": "markdown",
   "metadata": {},
   "source": [
    "## Set up the simulation\n",
    "After defining the box, materials, geometry, and ports, we can choose what kind of simulation we are doing."
   ]
  }
 ],
 "metadata": {
  "kernelspec": {
   "display_name": "Python 3",
   "language": "python",
   "name": "python3"
  },
  "language_info": {
   "codemirror_mode": {
    "name": "ipython",
    "version": 3
   },
   "file_extension": ".py",
   "mimetype": "text/x-python",
   "name": "python",
   "nbconvert_exporter": "python",
   "pygments_lexer": "ipython3",
   "version": "3.6.7"
  }
 },
 "nbformat": 4,
 "nbformat_minor": 2
}
