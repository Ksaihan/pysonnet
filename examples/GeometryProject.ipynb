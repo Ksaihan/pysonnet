{
 "cells": [
  {
   "cell_type": "markdown",
   "metadata": {},
   "source": [
    "# Transmission line simulation with pysonnet\n",
    "Let's setup the notebook. Define the full path (including the file name) of the sonnet file we want to make, and define the sonnet directory. We will need them later to run the project."
   ]
  },
  {
   "cell_type": "code",
   "execution_count": 1,
   "metadata": {},
   "outputs": [],
   "source": [
    "import logging\n",
    "import numpy as np\n",
    "import pysonnet as ps\n",
    "# gdspy is available via 'pip install gdspy'\n",
    "# or at https://github.com/heitzmann/gdspy\n",
    "import gdspy as gp\n",
    "\n",
    "sonnet_file_path = \"/mnt/data0/nzobrist/sonnet_files/pysonnet_tests/test.son\"\n",
    "path_to_sonnet = \"/mnt/data0/sonnet16\"\n",
    "\n",
    "# Set up logging to the console\n",
    "log = logging.getLogger()\n",
    "log.setLevel(logging.INFO) # Only prints project.run() information. Set to logging.DEBUG for more detail\n",
    "log.addHandler(logging.StreamHandler())"
   ]
  },
  {
   "cell_type": "markdown",
   "metadata": {},
   "source": [
    "## Make a simple geometry with gdspy\n",
    "We can make a cool wavy transmission line using the gdspy.Path class\n",
    "\n",
    "The result can be easily viewed using gdspy's built in layout viewer (uncomment the last line)"
   ]
  },
  {
   "cell_type": "code",
   "execution_count": 2,
   "metadata": {},
   "outputs": [],
   "source": [
    "# Geometric constants\n",
    "box_x, box_y = 100, 100  # size of the box\n",
    "width = 5  # transmission line width\n",
    "layer = 0  # layer for gds format\n",
    "datatype = 1  # datatype for gds format\n",
    "\n",
    "# Initialize the path\n",
    "path = gp.Path(width, initial_point=(box_x / 3, 0))\n",
    "\n",
    "# Define the cosine path and it's derivative\n",
    "def path_function(t):\n",
    "    return -box_x / 6 * (np.cos(np.pi * t) - 1), t * box_y\n",
    "\n",
    "def d_path_function(t):\n",
    "    return np.pi * box_x / 6 * np.sin(np.pi * t), box_y\n",
    "\n",
    "path.parametric(path_function, curve_derivative=d_path_function,\n",
    "                layer=layer, datatype=datatype)\n",
    "\n",
    "# Add the path to a cell\n",
    "cell = gp.Cell('feedline', exclude_from_current=True)\n",
    "cell.add(path);\n",
    "\n",
    "# Show the result\n",
    "# gp.LayoutViewer(cells=cell)"
   ]
  },
  {
   "cell_type": "markdown",
   "metadata": {},
   "source": [
    "## Configure the project settings\n",
    "The first step is to pick the box settings and the materials that we will use for the sonnet simulation"
   ]
  },
  {
   "cell_type": "code",
   "execution_count": 3,
   "metadata": {},
   "outputs": [],
   "source": [
    "# The GeometryProject is the most basic Sonnet project type\n",
    "project = ps.GeometryProject()\n",
    "\n",
    "# The default length unit for Sonnet is mils,so let's change it\n",
    "project.set_units(length='um')\n",
    "\n",
    "# Then we can set up the box\n",
    "project.setup_box(box_x, box_y, 200, 200)\n",
    "\n",
    "# Define the metal types and if they are on the box top/bottom\n",
    "# high kinetic inductance superconductor\n",
    "project.define_metal(\"general\", \"PtSi\", ls=21)\n",
    "# low kinetic inductance superconductor\n",
    "project.define_metal(\"general\", \"Nb\", ls=0.08)\n",
    "project.set_box_cover(\"free space\", top=True)\n",
    "project.set_box_cover(\"custom\", name=\"Nb\", bottom=True)\n",
    "\n",
    "# Lets add a dielectric layer under the microstrip and air above\n",
    "project.add_dielectric(\"air\", layer, thickness=1000)\n",
    "project.add_dielectric(\"silicon\", layer + 1, thickness=100,\n",
    "                       epsilon=11.9, dielectric_loss=0.004,\n",
    "                       conductivity=4.4e-4)\n",
    "\n",
    "# We can also define technology layers\n",
    "project.define_technology_layer(\"metal\", \"microstrip\", layer,\n",
    "                                \"PtSi\", fill_type=\"diagonal\")\n",
    "\n",
    "# We also might want to see the current density\n",
    "project.set_options(current_density=True)"
   ]
  },
  {
   "cell_type": "markdown",
   "metadata": {},
   "source": [
    "## Load the geometry into a pysonnet project\n",
    "The polygons can be extracted using the get_polygons() method for the Cell, CellReference or CellArray.\n",
    "\n",
    "The by_spec keyword is useful for separating different layers and datatypes to assign groups of polygons to different Sonnet layers with different properties. "
   ]
  },
  {
   "cell_type": "code",
   "execution_count": 4,
   "metadata": {},
   "outputs": [],
   "source": [
    "polygons = cell.get_polygons(by_spec=True)\n",
    "# Pick the polygons that I want\n",
    "microstrip_polygons = polygons[(layer, datatype)]"
   ]
  },
  {
   "cell_type": "markdown",
   "metadata": {},
   "source": [
    "We can now add the polygons and ports to our project."
   ]
  },
  {
   "cell_type": "code",
   "execution_count": 5,
   "metadata": {},
   "outputs": [],
   "source": [
    "project.add_polygons(\"metal\", microstrip_polygons,\n",
    "                     tech_layer=\"microstrip\")\n",
    "project.add_port(\"standard\", 1, 2 * box_x / 3, box_y,\n",
    "                 resistance=50)\n",
    "project.add_port(\"standard\", 2, box_x / 3, 0, resistance=50)"
   ]
  },
  {
   "cell_type": "markdown",
   "metadata": {},
   "source": [
    "## Set up the simulation\n",
    "After defining the box, materials, geometry, and ports, we can choose what kind of simulation we are doing."
   ]
  },
  {
   "cell_type": "code",
   "execution_count": 6,
   "metadata": {},
   "outputs": [],
   "source": [
    "# Add the frequency sweep to the project\n",
    "project.add_frequency_sweep(\"abs\", f1=4, f2=5)\n",
    "# Select an analysis (doesn't need to be done if running the project)\n",
    "project.set_analysis(\"frequency sweep\")\n",
    "# Make the sonnet file\n",
    "project.make_sonnet_file(sonnet_file_path)\n",
    "# Locate Sonnet\n",
    "# project.locate_sonnet(path_to_sonnet)\n",
    "# Run the project\n",
    "# project.run(\"frequency sweep\")"
   ]
  }
 ],
 "metadata": {
  "kernelspec": {
   "display_name": "Python 3",
   "language": "python",
   "name": "python3"
  },
  "language_info": {
   "codemirror_mode": {
    "name": "ipython",
    "version": 3
   },
   "file_extension": ".py",
   "mimetype": "text/x-python",
   "name": "python",
   "nbconvert_exporter": "python",
   "pygments_lexer": "ipython3",
   "version": "3.6.7"
  }
 },
 "nbformat": 4,
 "nbformat_minor": 2
}
